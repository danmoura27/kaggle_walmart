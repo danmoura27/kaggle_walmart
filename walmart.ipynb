{
 "cells": [
  {
   "cell_type": "markdown",
   "id": "b974b2b4",
   "metadata": {},
   "source": [
    "# File Kaggle: https://www.kaggle.com/datasets/aslanahmedov/walmart-sales-forecast\n",
    "\n",
    "# features.csv -> This file contains additional data related to the store, department, and regional activity for the given dates.\n",
    "# stores.csv -> This file contains anonymized information about the 45 stores, indicating the type and size of the store\n",
    "# train.csv -> This is the historical training data, which covers 2010–02–05 to 2012–11–01\n",
    "# test.csv -> This file is identical to train.csv, except we have withheld the weekly sales."
   ]
  },
  {
   "cell_type": "code",
   "execution_count": 1,
   "id": "2fa13af7",
   "metadata": {},
   "outputs": [],
   "source": [
    "# Importar bibliotecas\n",
    "import os\n",
    "import pandas as pd"
   ]
  },
  {
   "cell_type": "code",
   "execution_count": 2,
   "id": "813790f2",
   "metadata": {},
   "outputs": [
    {
     "name": "stdout",
     "output_type": "stream",
     "text": [
      "['features.csv', 'stores.csv', 'test.csv', 'train.csv']\n"
     ]
    }
   ],
   "source": [
    "# Diretório\n",
    "path = \"C:\\\\Users\\\\danmo\\\\Documents\\\\walmart\\\\data\"\n",
    "\n",
    "# Listar arquivos no direrório\n",
    "files = os.listdir(path)\n",
    "print(files)"
   ]
  },
  {
   "cell_type": "code",
   "execution_count": 3,
   "id": "35346d8a",
   "metadata": {},
   "outputs": [],
   "source": [
    "# Carregar cada arquivo CSV\n",
    "df_features = pd.read_csv(os.path.join(path, 'features.csv'))\n",
    "df_stores = pd.read_csv(os.path.join(path, 'stores.csv'))\n",
    "df_test = pd.read_csv(os.path.join(path, 'test.csv'))\n",
    "df_train = pd.read_csv(os.path.join(path, 'train.csv'))"
   ]
  },
  {
   "cell_type": "code",
   "execution_count": 4,
   "id": "473b8eae",
   "metadata": {},
   "outputs": [
    {
     "name": "stdout",
     "output_type": "stream",
     "text": [
      "Análise df_features:\n",
      "   Store        Date  Temperature  Fuel_Price  MarkDown1  MarkDown2  \\\n",
      "0      1  2010-02-05        42.31       2.572        NaN        NaN   \n",
      "1      1  2010-02-12        38.51       2.548        NaN        NaN   \n",
      "2      1  2010-02-19        39.93       2.514        NaN        NaN   \n",
      "3      1  2010-02-26        46.63       2.561        NaN        NaN   \n",
      "4      1  2010-03-05        46.50       2.625        NaN        NaN   \n",
      "\n",
      "   MarkDown3  MarkDown4  MarkDown5         CPI  Unemployment  IsHoliday  \n",
      "0        NaN        NaN        NaN  211.096358         8.106      False  \n",
      "1        NaN        NaN        NaN  211.242170         8.106       True  \n",
      "2        NaN        NaN        NaN  211.289143         8.106      False  \n",
      "3        NaN        NaN        NaN  211.319643         8.106      False  \n",
      "4        NaN        NaN        NaN  211.350143         8.106      False  \n",
      "<class 'pandas.core.frame.DataFrame'>\n",
      "RangeIndex: 8190 entries, 0 to 8189\n",
      "Data columns (total 12 columns):\n",
      " #   Column        Non-Null Count  Dtype  \n",
      "---  ------        --------------  -----  \n",
      " 0   Store         8190 non-null   int64  \n",
      " 1   Date          8190 non-null   object \n",
      " 2   Temperature   8190 non-null   float64\n",
      " 3   Fuel_Price    8190 non-null   float64\n",
      " 4   MarkDown1     4032 non-null   float64\n",
      " 5   MarkDown2     2921 non-null   float64\n",
      " 6   MarkDown3     3613 non-null   float64\n",
      " 7   MarkDown4     3464 non-null   float64\n",
      " 8   MarkDown5     4050 non-null   float64\n",
      " 9   CPI           7605 non-null   float64\n",
      " 10  Unemployment  7605 non-null   float64\n",
      " 11  IsHoliday     8190 non-null   bool   \n",
      "dtypes: bool(1), float64(9), int64(1), object(1)\n",
      "memory usage: 712.0+ KB\n",
      "None\n"
     ]
    }
   ],
   "source": [
    "# ANALISAR ARQUIVOS\n",
    "print(\"Análise df_features:\")\n",
    "print(df_features.head())\n",
    "print(df_features.info())"
   ]
  },
  {
   "cell_type": "code",
   "execution_count": 5,
   "id": "d9013baa",
   "metadata": {},
   "outputs": [
    {
     "name": "stdout",
     "output_type": "stream",
     "text": [
      "datetime64[ns]\n"
     ]
    }
   ],
   "source": [
    "# Tranformando a coluna 'Date' em formato de data\n",
    "df_features['Date'] = pd.to_datetime(df_features['Date'])\n",
    "print(df_features['Date'].dtypes)"
   ]
  },
  {
   "cell_type": "code",
   "execution_count": 7,
   "id": "ddd716bb",
   "metadata": {},
   "outputs": [
    {
     "name": "stdout",
     "output_type": "stream",
     "text": [
      "             Store                 Date  Temperature   Fuel_Price  \\\n",
      "count  8190.000000                 8190  8190.000000  8190.000000   \n",
      "mean     23.000000  2011-10-31 12:00:00    59.356198     3.405992   \n",
      "min       1.000000  2010-02-05 00:00:00    -7.290000     2.472000   \n",
      "25%      12.000000  2010-12-17 00:00:00    45.902500     3.041000   \n",
      "50%      23.000000  2011-10-31 12:00:00    60.710000     3.513000   \n",
      "75%      34.000000  2012-09-14 00:00:00    73.880000     3.743000   \n",
      "max      45.000000  2013-07-26 00:00:00   101.950000     4.468000   \n",
      "std      12.987966                  NaN    18.678607     0.431337   \n",
      "\n",
      "           MarkDown1      MarkDown2      MarkDown3     MarkDown4  \\\n",
      "count    4032.000000    2921.000000    3613.000000   3464.000000   \n",
      "mean     7032.371786    3384.176594    1760.100180   3292.935886   \n",
      "min     -2781.450000    -265.760000    -179.260000      0.220000   \n",
      "25%      1577.532500      68.880000       6.600000    304.687500   \n",
      "50%      4743.580000     364.570000      36.260000   1176.425000   \n",
      "75%      8923.310000    2153.350000     163.150000   3310.007500   \n",
      "max    103184.980000  104519.540000  149483.310000  67474.850000   \n",
      "std      9262.747448    8793.583016   11276.462208   6792.329861   \n",
      "\n",
      "           MarkDown5          CPI  Unemployment  \n",
      "count    4050.000000  7605.000000   7605.000000  \n",
      "mean     4132.216422   172.460809      7.826821  \n",
      "min      -185.170000   126.064000      3.684000  \n",
      "25%      1440.827500   132.364839      6.634000  \n",
      "50%      2727.135000   182.764003      7.806000  \n",
      "75%      4832.555000   213.932412      8.567000  \n",
      "max    771448.100000   228.976456     14.313000  \n",
      "std     13086.690278    39.738346      1.877259  \n"
     ]
    }
   ],
   "source": [
    "print(df_features.describe())"
   ]
  },
  {
   "cell_type": "code",
   "execution_count": 10,
   "id": "f04568c4",
   "metadata": {},
   "outputs": [
    {
     "data": {
      "text/plain": [
       "Store              0\n",
       "Date               0\n",
       "Temperature        0\n",
       "Fuel_Price         0\n",
       "MarkDown1       4158\n",
       "MarkDown2       5269\n",
       "MarkDown3       4577\n",
       "MarkDown4       4726\n",
       "MarkDown5       4140\n",
       "CPI              585\n",
       "Unemployment     585\n",
       "IsHoliday          0\n",
       "dtype: int64"
      ]
     },
     "execution_count": 10,
     "metadata": {},
     "output_type": "execute_result"
    }
   ],
   "source": [
    "#Verificando valores ausentes\n",
    "df_features.isna().sum()"
   ]
  },
  {
   "cell_type": "code",
   "execution_count": null,
   "id": "85e2ace3",
   "metadata": {},
   "outputs": [],
   "source": [
    "# Gerar gráfico de "
   ]
  }
 ],
 "metadata": {
  "kernelspec": {
   "display_name": "Python 3",
   "language": "python",
   "name": "python3"
  },
  "language_info": {
   "codemirror_mode": {
    "name": "ipython",
    "version": 3
   },
   "file_extension": ".py",
   "mimetype": "text/x-python",
   "name": "python",
   "nbconvert_exporter": "python",
   "pygments_lexer": "ipython3",
   "version": "3.13.3"
  }
 },
 "nbformat": 4,
 "nbformat_minor": 5
}
